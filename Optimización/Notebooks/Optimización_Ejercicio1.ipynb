{
  "nbformat": 4,
  "nbformat_minor": 0,
  "metadata": {
    "colab": {
      "provenance": [],
      "authorship_tag": "ABX9TyMAVqKoLM0yez6VPsK3L7o5",
      "include_colab_link": true
    },
    "kernelspec": {
      "name": "python3",
      "display_name": "Python 3"
    },
    "language_info": {
      "name": "python"
    }
  },
  "cells": [
    {
      "cell_type": "markdown",
      "metadata": {
        "id": "view-in-github",
        "colab_type": "text"
      },
      "source": [
        "<a href=\"https://colab.research.google.com/github/Magali8310/Facultad/blob/main/Optimizaci%C3%B3n/Notebooks/Optimizaci%C3%B3n_Ejercicio1.ipynb\" target=\"_parent\"><img src=\"https://colab.research.google.com/assets/colab-badge.svg\" alt=\"Open In Colab\"/></a>"
      ]
    },
    {
      "cell_type": "code",
      "execution_count": 2,
      "metadata": {
        "id": "L1-kEZswnjqd"
      },
      "outputs": [],
      "source": [
        "import pulp"
      ]
    },
    {
      "cell_type": "markdown",
      "source": [
        "## **Ejemplo dado por el profesor**"
      ],
      "metadata": {
        "id": "SO4aUzVBowpd"
      }
    },
    {
      "cell_type": "code",
      "source": [
        "# --- 1. Definición de Datos del Problema ---\n",
        "\n",
        "# Conjunto de SVCs que necesitan ser cubiertos\n",
        "svcs = [f\"SVC_{i}\" for i in range(1, 11)]\n",
        "\n",
        "# Conjunto de ubicaciones candidatas para los depositos\n",
        "depositos_candidatos = [\"Deposito_A\", \"Deposito_B\", \"Deposito_C\", \"Deposito_D\", \"Deposito_E\"]\n",
        "\n",
        "# Definimos qué SVCs puede cubrir cada deposito.\n",
        "# Esta es la matriz 'a_ij' del modelo teórico.\n",
        "# Un diccionario es una forma muy clara de representar esta relación.\n",
        "cobertura = {\n",
        "    \"Deposito_A\": [\"SVC_1\", \"SVC_3\", \"SVC_10\"],\n",
        "    \"Deposito_B\": [\"SVC_2\", \"SVC_4\", \"SVC_6\"],\n",
        "    \"Deposito_C\": [\"SVC_1\", \"SVC_5\", \"SVC_7\", \"SVC_9\"],\n",
        "    \"Deposito_D\": [\"SVC_2\", \"SVC_8\", \"SVC_10\"],\n",
        "    \"Deposito_E\": [\"SVC_3\", \"SVC_5\", \"SVC_6\", \"SVC_9\"]\n",
        "}"
      ],
      "metadata": {
        "id": "9u5ZELplntkg"
      },
      "execution_count": 3,
      "outputs": []
    },
    {
      "cell_type": "code",
      "source": [
        "# --- 2. Creación del Modelo ---\n",
        "\n",
        "# Se crea el objeto del problema, especificando que es de minimización\n",
        "modelo = pulp.LpProblem(\"Ubicacion_Depositos_SetCover\", pulp.LpMinimize)"
      ],
      "metadata": {
        "id": "-wZNq_Y6nvSw"
      },
      "execution_count": 4,
      "outputs": []
    },
    {
      "cell_type": "code",
      "source": [
        "# --- 3. Definición de las Variables de Decisión ---\n",
        "\n",
        "# x_j: 1 si se decide abrir el deposito j, 0 si no.\n",
        "abrir = pulp.LpVariable.dicts(\"Abrir_Deposito\", depositos_candidatos, cat='Binary')"
      ],
      "metadata": {
        "id": "krnVGFDBn1J0"
      },
      "execution_count": 5,
      "outputs": []
    },
    {
      "cell_type": "code",
      "source": [
        "# --- 4. Definición de la Función Objetivo ---\n",
        "\n",
        "# El objetivo es minimizar el número total de depositos abiertos.\n",
        "# Esto es simplemente la suma de todas las variables de decisión 'abrir'.\n",
        "modelo += pulp.lpSum(abrir[j] for j in depositos_candidatos), \"Numero_Total_de_Depositos\""
      ],
      "metadata": {
        "id": "dJZGNDQ9n4kH"
      },
      "execution_count": 6,
      "outputs": []
    },
    {
      "cell_type": "code",
      "source": [
        "# --- 5. Definición de las Restricciones ---\n",
        "\n",
        "# Restricción de Cobertura: Para cada SVC, al menos un deposito que lo\n",
        "# cubra debe ser seleccionado.\n",
        "for i in svcs:\n",
        "    # Para el SVC 'i', sumamos las variables de los depositos 'j' que lo cubren\n",
        "    expresion_cobertura = pulp.lpSum(abrir[j] for j in depositos_candidatos if i in cobertura[j])\n",
        "\n",
        "    # La suma debe ser mayor o igual a 1\n",
        "    modelo += expresion_cobertura >= 1, f\"Cobertura_de_{i}\""
      ],
      "metadata": {
        "id": "dnTS0DbJn8IO"
      },
      "execution_count": 7,
      "outputs": []
    },
    {
      "cell_type": "code",
      "source": [
        "# --- 6. Solución del Problema ---\n",
        "\n",
        "# Se invoca al solver para que encuentre la solución óptima\n",
        "modelo.solve()"
      ],
      "metadata": {
        "colab": {
          "base_uri": "https://localhost:8080/"
        },
        "id": "3qUEoZhdoC_B",
        "outputId": "aa33b9ac-c010-4a8c-b4af-5f51ca0be8a4"
      },
      "execution_count": 8,
      "outputs": [
        {
          "output_type": "execute_result",
          "data": {
            "text/plain": [
              "1"
            ]
          },
          "metadata": {},
          "execution_count": 8
        }
      ]
    },
    {
      "cell_type": "code",
      "source": [
        "# --- 7. Visualización de los Resultados ---\n",
        "\n",
        "print(f\"Estado de la solución: {pulp.LpStatus[modelo.status]}\")\n",
        "print(\"-\" * 30)\n",
        "# El valor del objetivo es el número mínimo de depositos\n",
        "min_depositos = int(pulp.value(modelo.objective))\n",
        "print(f\"Número mínimo de depositos a abrir: {min_depositos}\")\n",
        "print(\"-\" * 30)\n",
        "print(\"Depositos seleccionados:\")\n",
        "\n",
        "# Imprimimos solo los depositos cuya variable de decisión sea 1\n",
        "for j in depositos_candidatos:\n",
        "    if pulp.value(abrir[j]) == 1:\n",
        "        print(f\"  -> {j} (cubre a: {', '.join(cobertura[j])})\")\n"
      ],
      "metadata": {
        "colab": {
          "base_uri": "https://localhost:8080/"
        },
        "id": "LjU7DvfdoGmm",
        "outputId": "db2465a7-e604-49b6-c1ac-f62a0907154d"
      },
      "execution_count": 9,
      "outputs": [
        {
          "output_type": "stream",
          "name": "stdout",
          "text": [
            "Estado de la solución: Optimal\n",
            "------------------------------\n",
            "Número mínimo de depositos a abrir: 4\n",
            "------------------------------\n",
            "Depositos seleccionados:\n",
            "  -> Deposito_A (cubre a: SVC_1, SVC_3, SVC_10)\n",
            "  -> Deposito_B (cubre a: SVC_2, SVC_4, SVC_6)\n",
            "  -> Deposito_C (cubre a: SVC_1, SVC_5, SVC_7, SVC_9)\n",
            "  -> Deposito_D (cubre a: SVC_2, SVC_8, SVC_10)\n"
          ]
        }
      ]
    },
    {
      "cell_type": "markdown",
      "source": [
        "## **Ejercicio 1**"
      ],
      "metadata": {
        "id": "IxRS3nwqo_b7"
      }
    }
  ]
}