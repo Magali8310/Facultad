{
  "nbformat": 4,
  "nbformat_minor": 0,
  "metadata": {
    "colab": {
      "provenance": []
    },
    "kernelspec": {
      "name": "python3",
      "display_name": "Python 3"
    },
    "language_info": {
      "name": "python"
    }
  },
  "cells": [
    {
      "cell_type": "code",
      "source": [
        "!pip install pulp"
      ],
      "metadata": {
        "colab": {
          "base_uri": "https://localhost:8080/"
        },
        "id": "wDuZLyjayFiR",
        "outputId": "137123e7-9a78-41cd-8694-1646142c6dad"
      },
      "execution_count": 2,
      "outputs": [
        {
          "output_type": "stream",
          "name": "stdout",
          "text": [
            "Collecting pulp\n",
            "  Downloading pulp-3.2.2-py3-none-any.whl.metadata (6.9 kB)\n",
            "Downloading pulp-3.2.2-py3-none-any.whl (16.4 MB)\n",
            "\u001b[2K   \u001b[90m━━━━━━━━━━━━━━━━━━━━━━━━━━━━━━━━━━━━━━━━\u001b[0m \u001b[32m16.4/16.4 MB\u001b[0m \u001b[31m95.3 MB/s\u001b[0m eta \u001b[36m0:00:00\u001b[0m\n",
            "\u001b[?25hInstalling collected packages: pulp\n",
            "Successfully installed pulp-3.2.2\n"
          ]
        }
      ]
    },
    {
      "cell_type": "code",
      "execution_count": 3,
      "metadata": {
        "id": "L1-kEZswnjqd"
      },
      "outputs": [],
      "source": [
        "import pulp"
      ]
    },
    {
      "cell_type": "markdown",
      "source": [
        "## **Ejercicio 1**"
      ],
      "metadata": {
        "id": "IxRS3nwqo_b7"
      }
    },
    {
      "cell_type": "markdown",
      "source": [
        "# **Función para leer el input:**"
      ],
      "metadata": {
        "id": "vNJeBzNfwtn8"
      }
    },
    {
      "cell_type": "code",
      "source": [
        "def read_input(file):\n",
        "  #readline lee la primera linea del file\n",
        "  #split use el espacio para separar en palabras\n",
        "  #devuelve un arreglo de palbras\n",
        "    line = file.readline().split()\n",
        "    n, m = int(line[0]), int(line[1])\n",
        "\n",
        "  #si lee dos 0 es que ya no hay más instancias\n",
        "    if n == 0 and m == 0:\n",
        "        return 0, 0, 0, [], [], {}\n",
        "\n",
        "  #Lee el costo promedio de entregar un paquete desde el service center\n",
        "  #Ese valor se llama S\n",
        "    S = float(file.readline())\n",
        "\n",
        "  #Defino una lista de capacidad y otra de costo para cada nodo\n",
        "    capacities = []\n",
        "    costs = []\n",
        "\n",
        "  #Itero sobre los n nodos\n",
        "  #Almaceno su capacidad y costo\n",
        "    for _ in range(n):\n",
        "        # Lee capacidad como entero y costo como float\n",
        "        capacity, cost = file.readline().split()\n",
        "        capacities.append(int(capacity))\n",
        "        costs.append(float(cost))\n",
        "\n",
        "  #Defino un diccionario para la cobertura\n",
        "    coverage = {}\n",
        "  #Itero por cada nodo\n",
        "    for i in range(n):\n",
        "      #Transformo a cada elemento leido en un entero con map\n",
        "        data = list(map(int, file.readline().split()))\n",
        "      #Acá guardo para el nodo i, que paquetes puede entrgar\n",
        "        coverage[i] = data[1:]\n",
        "\n",
        "    return n, m, S, capacities, costs, coverage\n"
      ],
      "metadata": {
        "id": "DeDCSSz3qqVw"
      },
      "execution_count": 4,
      "outputs": []
    },
    {
      "cell_type": "code",
      "source": [
        "\n",
        "# Re-open the file as it was closed by the previous error\n",
        "file_path = \"/content/drive/MyDrive/Optimización/in.txt\"\n",
        "input_file = open(file_path, 'r')\n",
        "\n",
        "all_instances_data = []\n",
        "\n",
        "while True:\n",
        "    n, m, s, node_capacities, node_costs, node_coverage = read_input(input_file)\n",
        "\n",
        "    if n == 0 and m == 0:\n",
        "        break\n",
        "\n",
        "    all_instances_data.append({\n",
        "        \"N\": n,\n",
        "        \"M\": m,\n",
        "        \"S\": s,\n",
        "        \"node_capacities\": node_capacities,\n",
        "        \"node_costs\": node_costs,\n",
        "        \"node_coverage\": node_coverage\n",
        "    })\n",
        "\n",
        "input_file.close()\n",
        "\n",
        "# Optional: Print the prepared data for verification\n",
        "for i, instance_data in enumerate(all_instances_data):\n",
        "    print(f\"--- Instance {i+1} ---\")\n",
        "    print(f\"N: {instance_data['N']}, M: {instance_data['M']}, S: {instance_data['S']}\")\n",
        "    print(f\"Node Capacities: {instance_data['node_capacities']}\")\n",
        "    print(f\"Node Costs: {instance_data['node_costs']}\")\n",
        "    print(f\"Node Coverage: {instance_data['node_coverage']}\")\n",
        "    print(\"-\" * 20)"
      ],
      "metadata": {
        "colab": {
          "base_uri": "https://localhost:8080/"
        },
        "id": "dC5WvOsewh61",
        "outputId": "a8db7e12-6f13-4ab5-a7e8-37506cb60bda"
      },
      "execution_count": null,
      "outputs": [
        {
          "output_type": "stream",
          "name": "stdout",
          "text": [
            "--- Instance 1 ---\n",
            "N: 3, M: 8, S: 12.5\n",
            "Node Capacities: [10, 8, 12]\n",
            "Node Costs: [5.0, 7.25, 4.5]\n",
            "Node Coverage: {0: [0, 1, 2, 3, 7], 1: [2, 3, 4, 5], 2: [0, 2, 4, 5, 6, 7]}\n",
            "--------------------\n",
            "--- Instance 2 ---\n",
            "N: 2, M: 5, S: 10.0\n",
            "Node Capacities: [20, 15]\n",
            "Node Costs: [4.0, 6.0]\n",
            "Node Coverage: {0: [0, 1, 2], 1: [0, 1, 3, 4]}\n",
            "--------------------\n"
          ]
        }
      ]
    },
    {
      "cell_type": "markdown",
      "source": [
        "# **Procesamiento:**"
      ],
      "metadata": {
        "id": "cemr1mygw-Hl"
      }
    },
    {
      "cell_type": "code",
      "source": [
        "file_path = \"/content/drive/MyDrive/Optimización/in.txt\"\n",
        "input_file = open(file_path, 'r')\n",
        "n, m, S, capacities, costs, coverage = read_input(input_file)\n",
        "\n",
        "n, m, S, capacities, costs, coverage = read_input(input_file)"
      ],
      "metadata": {
        "id": "dfhdRA-OxIAr"
      },
      "execution_count": 93,
      "outputs": []
    },
    {
      "cell_type": "code",
      "source": [
        "#Considero que el service center es el nodo n+1.\n",
        "#Como cuentan desde el 0, el nodo n\n",
        "#Su costo es S\n",
        "costs.append(S)\n",
        "#Su capacidad es igual a la cantidad de paquetes a entregar, podría ser superior pero con esto basta\n",
        "capacities.append(m)\n",
        "#Su coverage es el de todos los paquetes\n",
        "coverage[n] = list(range(m))\n",
        "n = n + 1"
      ],
      "metadata": {
        "id": "Q9Zx8h3a1NJy"
      },
      "execution_count": 66,
      "outputs": []
    },
    {
      "cell_type": "code",
      "source": [
        "model = pulp.LpProblem(\"Delivery_Cost_Optimization\", pulp.LpMinimize)"
      ],
      "metadata": {
        "id": "YsRtJRNzxWee"
      },
      "execution_count": 67,
      "outputs": []
    },
    {
      "cell_type": "code",
      "source": [
        "deliver = pulp.LpVariable.dicts(\"Deliver_Package_In_Node\", [(i, j) for i in range(m) for j in range(n+1)], cat='Binary')"
      ],
      "metadata": {
        "id": "eZa6cvi5yNtn",
        "collapsed": true
      },
      "execution_count": 68,
      "outputs": []
    },
    {
      "cell_type": "code",
      "source": [
        "model += pulp.lpSum(pulp.lpSum((j in coverage[i]) * deliver[(j, i)] for j in range(m))*costs[i] for i in range(n)), \"Total_Cost\""
      ],
      "metadata": {
        "id": "sD5fVyNc0KZf"
      },
      "execution_count": 69,
      "outputs": []
    },
    {
      "cell_type": "code",
      "source": [
        "for i in range(n):\n",
        "    model += pulp.lpSum(deliver[(j, i)] for j in range(m)) <= capacities[i], f\"Capacity_Constraint_{i}\""
      ],
      "metadata": {
        "id": "3TIDQcn16Grn"
      },
      "execution_count": 70,
      "outputs": []
    },
    {
      "cell_type": "code",
      "source": [
        "for j in range(m):\n",
        "    model += pulp.lpSum(deliver[(j, i)] for i in range(n)) == 1, f\"Package_Delivery_Constraint{j}\""
      ],
      "metadata": {
        "id": "qaIpSURM638L"
      },
      "execution_count": 71,
      "outputs": []
    },
    {
      "cell_type": "code",
      "source": [
        "model.solve()"
      ],
      "metadata": {
        "id": "Mv5eRR5c5_zi"
      },
      "execution_count": null,
      "outputs": []
    },
    {
      "cell_type": "code",
      "source": [
        "print(f\"Estado de la solución: {pulp.LpStatus[model.status]}\")\n",
        "print(\"-\" * 30)\n",
        "# El valor del objetivo es el número mínimo de depositos\n",
        "min_cost = pulp.value(model.objective)\n",
        "print(f\"Costo mínimo: {min_cost}\")\n",
        "print(\"-\" * 30)\n",
        "print(\"Paquetes entregados por cada nodo:\")\n",
        "\n",
        "# Imprimimos solo los depositos cuya variable de decisión sea 1\n",
        "for (j, i) in deliver:\n",
        "    if pulp.value(deliver[(j, i)]) == 1:\n",
        "        print(f\"  Paquete {j} entregado por Nodo {i}\")"
      ],
      "metadata": {
        "id": "dgZZjbOH7RqK"
      },
      "execution_count": null,
      "outputs": []
    },
    {
      "cell_type": "code",
      "source": [
        "# Read input data\n",
        "file_path = \"/content/drive/MyDrive/Optimización/in.txt\"\n",
        "input_file = open(file_path, 'r')\n",
        "n, m, S, capacities, costs, coverage = read_input(input_file)\n",
        "\n",
        "# Consider the service center as node n+1\n",
        "costs.append(S)\n",
        "capacities.append(m)\n",
        "coverage[n] = list(range(m))\n",
        "n = n + 1\n",
        "\n",
        "model = pulp.LpProblem(\"Delivery_Cost_Optimization\", pulp.LpMinimize)\n",
        "\n",
        "# Define decision variables\n",
        "deliver = pulp.LpVariable.dicts(\n",
        "    \"Deliver_Package_In_Node\",\n",
        "    [(j, i) for i in range(n) for j in coverage[i]],  # only valid pairs\n",
        "    cat='Binary'\n",
        ")\n",
        "\n",
        "# Define the objective function\n",
        "# Create the model\n",
        "model += pulp.lpSum(\n",
        "    deliver[(j, i)] * costs[i]\n",
        "    for i in range(n)\n",
        "    for j in coverage[i]\n",
        "), \"Total_Cost\"\n",
        "\n",
        "\n",
        "# Define constraints\n",
        "# Capacity constraint: Each node's capacity is not exceeded\n",
        "# Capacity: Each node i can only deliver up to its capacity\n",
        "for i in range(n):\n",
        "    model += pulp.lpSum(deliver[(j, i)] for j in coverage[i]) <= capacities[i], f\"Capacity_{i}\"\n",
        "\n",
        "# Each package j must be delivered by exactly one node\n",
        "for j in range(m):\n",
        "    # only sum over nodes i where j ∈ coverage[i]\n",
        "    model += pulp.lpSum(deliver[(j, i)] for i in range(n) if j in coverage[i]) == 1, f\"Package_{j}\"\n",
        "\n",
        "\n",
        "# Solve the problem\n",
        "model.solve()\n",
        "\n",
        "print(f\"Estado de la solución: {pulp.LpStatus[model.status]}\")\n",
        "print(\"-\" * 30)\n",
        "# El valor del objetivo es el número mínimo de depositos\n",
        "min_cost = pulp.value(model.objective)\n",
        "print(f\"Costo mínimo: {min_cost}\")\n",
        "print(\"-\" * 30)\n",
        "print(\"Paquetes entregados por cada nodo:\")\n",
        "\n",
        "# Imprimimos solo los depositos cuya variable de decisión sea 1\n",
        "for (j, i) in deliver:\n",
        "    if pulp.value(deliver[(j, i)]) == 1:\n",
        "        print(f\"  Paquete {j} entregado por Nodo {i}\")"
      ],
      "metadata": {
        "colab": {
          "base_uri": "https://localhost:8080/"
        },
        "id": "a3hPL-dd8elL",
        "outputId": "343f9533-0591-45c3-a014-98c35eb3885d"
      },
      "execution_count": 94,
      "outputs": [
        {
          "output_type": "stream",
          "name": "stdout",
          "text": [
            "Estado de la solución: Optimal\n",
            "------------------------------\n",
            "Costo mínimo: 37.0\n",
            "------------------------------\n",
            "Paquetes entregados por cada nodo:\n",
            "  Paquete 1 entregado por Nodo 0\n",
            "  Paquete 3 entregado por Nodo 0\n",
            "  Paquete 0 entregado por Nodo 2\n",
            "  Paquete 2 entregado por Nodo 2\n",
            "  Paquete 4 entregado por Nodo 2\n",
            "  Paquete 5 entregado por Nodo 2\n",
            "  Paquete 6 entregado por Nodo 2\n",
            "  Paquete 7 entregado por Nodo 2\n"
          ]
        }
      ]
    },
    {
      "cell_type": "markdown",
      "source": [
        "# **Todo Junto**"
      ],
      "metadata": {
        "id": "_LjqnBJtGhXl"
      }
    },
    {
      "cell_type": "code",
      "source": [
        "def read_input(file):\n",
        "  #readline lee la primera linea del file\n",
        "  #split use el espacio para separar en palabras\n",
        "  #devuelve un arreglo de palbras\n",
        "    line = file.readline().split()\n",
        "    n, m = int(line[0]), int(line[1])\n",
        "\n",
        "  #si lee dos 0 es que ya no hay más instancias\n",
        "    if n == 0 and m == 0:\n",
        "        return 0, 0, 0, [], [], {}\n",
        "\n",
        "  #Lee el costo promedio de entregar un paquete desde el service center\n",
        "  #Ese valor se llama S\n",
        "    S = float(file.readline())\n",
        "\n",
        "  #Defino una lista de capacidad y otra de costo para cada nodo\n",
        "    capacities = []\n",
        "    costs = []\n",
        "\n",
        "  #Itero sobre los n nodos\n",
        "  #Almaceno su capacidad y costo\n",
        "    for _ in range(n):\n",
        "        # Lee capacidad como entero y costo como float\n",
        "        capacity, cost = file.readline().split()\n",
        "        capacities.append(int(capacity))\n",
        "        costs.append(float(cost))\n",
        "\n",
        "  #Defino un diccionario para la cobertura\n",
        "    coverage = {}\n",
        "  #Itero por cada nodo\n",
        "    for i in range(n):\n",
        "      #Transformo a cada elemento leido en un entero con map\n",
        "        data = list(map(int, file.readline().split()))\n",
        "      #Acá guardo para el nodo i, que paquetes puede entrgar\n",
        "        coverage[i] = data[1:]\n",
        "\n",
        "    return n, m, S, capacities, costs, coverage\n",
        "\n",
        "#####################################################################\n",
        "\n",
        "file_path = \"/content/drive/MyDrive/Optimización/in.txt\"\n",
        "input_file = open(file_path, 'r')\n",
        "solutions = []\n",
        "\n",
        "while True:\n",
        "  # Read input data\n",
        "  n, m, S, capacities, costs, coverage = read_input(input_file)\n",
        "\n",
        "  if n == 0:\n",
        "    break\n",
        "\n",
        "  # Considero al SVC el nodo n+1 con costo S, capacidad m (PODRIA SER MAYOR) y coverage de todos los paquetes\n",
        "  costs.append(S)\n",
        "  capacities.append(m)\n",
        "  coverage[n] = list(range(m))\n",
        "  n = n + 1\n",
        "\n",
        "  model = pulp.LpProblem(\"Delivery_Cost_Optimization\", pulp.LpMinimize)\n",
        "\n",
        "  # Defino las variables, cada variable representa entrage el paquete j en el nodo i. Solo si es posible.\n",
        "  deliver = pulp.LpVariable.dicts(\"Deliver_Package_In_Node\",[(j, i) for i in range(n) for j in coverage[i]], cat='Binary')\n",
        "\n",
        "  #Quiero minimzar el costo de entregar los paquetes, para eso tengo que elegir donde los entrego\n",
        "  model += pulp.lpSum(deliver[(j, i)] * costs[i] for i in range(n) for j in coverage[i]), \"Total_Cost\"\n",
        "\n",
        "  #Cada nodo no puede entrgar más paquetes que su capacidad\n",
        "  for i in range(n):\n",
        "      model += pulp.lpSum(deliver[(j, i)] for j in coverage[i]) <= capacities[i], f\"Capacity_{i}\"\n",
        "\n",
        "  #Cada paquete j tiene que ser entrgado a un único nodo\n",
        "  for j in range(m):\n",
        "      #Ese nodo tiene que poder entrgarlo\n",
        "      model += pulp.lpSum(deliver[(j, i)] for i in range(n) if j in coverage[i]) == 1, f\"Package_{j}\"\n",
        "\n",
        "\n",
        "  # Resuelvo\n",
        "  model.solve()\n",
        "  solutions.append((model, deliver, n, m, coverage))\n",
        "\n",
        "  ################################################################################\n",
        "with open(\"out.txt\", \"w\") as f:\n",
        "  for instance_index, (model, deliver, n, m, coverage) in enumerate(solutions, start=1):\n",
        "      f.write(f\"Caso {instance_index}\\n\")\n",
        "      f.write(f\"{pulp.value(model.objective):.2f}\\n\")\n",
        "      for j in range(m):\n",
        "        for i in range(n):\n",
        "          if j in coverage[i] and pulp.value(deliver[(j, i)]) == 1:\n",
        "            r = i if i != n-1 else -1\n",
        "            f.write(f\"{j} {r}\\n\")\n",
        "            break\n",
        ""
      ],
      "metadata": {
        "id": "ONy5EFSVHCfZ"
      },
      "execution_count": 119,
      "outputs": []
    }
  ]
}